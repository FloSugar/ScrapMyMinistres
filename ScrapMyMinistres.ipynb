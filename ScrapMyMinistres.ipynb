{
 "cells": [
  {
   "cell_type": "markdown",
   "metadata": {},
   "source": [
    "# Scrap them all !"
   ]
  },
  {
   "cell_type": "code",
   "execution_count": 60,
   "metadata": {
    "collapsed": false
   },
   "outputs": [],
   "source": [
    "import numpy as np\n",
    "import pandas as pd\n",
    "from bs4 import BeautifulSoup\n",
    "from urllib import request, response\n",
    "import re\n",
    "\n",
    "path_file = '/media/flo/Stockage/Data/ScrapMyMinistres/'"
   ]
  },
  {
   "cell_type": "code",
   "execution_count": 3,
   "metadata": {
    "collapsed": false
   },
   "outputs": [
    {
     "name": "stderr",
     "output_type": "stream",
     "text": [
      "/usr/local/lib/python3.4/dist-packages/IPython/parallel.py:13: ShimWarning: The `IPython.parallel` package has been deprecated. You should import from ipyparallel instead.\n",
      "  \"You should import from ipyparallel instead.\", ShimWarning)\n"
     ]
    }
   ],
   "source": [
    "%qtconsole"
   ]
  },
  {
   "cell_type": "code",
   "execution_count": 4,
   "metadata": {
    "collapsed": false
   },
   "outputs": [],
   "source": [
    "def clean_ministres_fonctions(fonction_ministres):\n",
    "    fonction_ministres_clean =  [x for x in fonction_ministres if any([len(x) < 5, '[' not in x ])]\n",
    "    fonction_ministres_clean = '#'.join(fonction_ministres_clean).split('##')\n",
    "    fonction_ministres_clean = [x.replace('#', ' / ') for x in fonction_ministres_clean]\n",
    "\n",
    "    return fonction_ministres_clean\n",
    "\n",
    "def clean_ministres_wiki(wiki_ministre) : \n",
    "    wiki_ministres_clean = [x for x in wiki_ministre if ('France' not in x) & \n",
    "                            ('jpg' not in x) & ('Fichier' not in x) & any(['(' in x or 'Conway' in x, len(x) <= 35]) &  # Philipe martin (homme politique, ...)\n",
    "                            ('gauche' not in x) & ('Outre-' not in x) & ('Ville' not in (x)) &\n",
    "                            ('Logement' not in x) & ('Budget' not in x)  & ('Walwari' not in x) &\n",
    "                            ('#cite' not in x) & ('tiquette' not in x) & ('cologistes' not in x) & ('cologie' not in x)]\n",
    "    print('%s ministres trouvés' % (len(wiki_ministres_clean)))\n",
    "    \n",
    "    return wiki_ministres_clean\n",
    "# le any(['(' in x or 'Conway' in x, len(x) <= 36]) sert à conserver certains wiki atypiques (Conway = très long, Philippe Martin = (homme polituque..))\n",
    "\n",
    "def get_my_gouv(link_gouv):\n",
    "    # Request\n",
    "    header = {'User-Agent': 'Mozilla/5.0'} # Needed to prevent 403 error on Wikipedia\n",
    "    page = request.Request(link_gouv, headers=header)\n",
    "    html = request.urlopen(page) \n",
    "    soup = BeautifulSoup(html, \"lxml\")\n",
    "    cells = soup.findAll(\"table\", {\"class\": \"wikitable sortable\"})\n",
    "    #  Init\n",
    "    wiki_ministres = []\n",
    "    fonction_ministres = [] \n",
    "    n_ministres = []\n",
    "    n_min = 0\n",
    "    # Scraping\n",
    "    for cell in cells: # Tableau principal\n",
    "        cells_href = cell.findAll(\"a\", href=True)\n",
    "        for c_href in cells_href: # éléments de chaque tableau\n",
    "            wiki_ministres.append(c_href['href'])\n",
    "            fonction_ministres.append(c_href.get_text())\n",
    "            n_ministres.append(n_min)\n",
    "            n_min += 1\n",
    "    wiki_ministres_clean = clean_ministres_wiki(wiki_ministres)\n",
    "    fonction_ministres_clean = clean_ministres_fonctions(fonction_ministres)\n",
    "    return (fonction_ministres_clean, wiki_ministres_clean)"
   ]
  },
  {
   "cell_type": "code",
   "execution_count": 200,
   "metadata": {
    "collapsed": false,
    "scrolled": true
   },
   "outputs": [
    {
     "name": "stdout",
     "output_type": "stream",
     "text": [
      "39 ministres trouvés\n",
      "32 ministres trouvés\n",
      "35 ministres trouvés\n",
      "38 ministres trouvés\n"
     ]
    }
   ],
   "source": [
    "dict_holland = {'holland_ayrault_1': \"/wiki/Gouvernement_Jean-Marc_Ayrault_(1)\",\n",
    "                'holland_ayrault_2': \"/wiki/Gouvernement_Jean-Marc_Ayrault_(2)\",\n",
    "                'holland_valls_1': \"/wiki/Gouvernement_Manuel_Valls_(1)\",\n",
    "                'holland_valls_2': \"/wiki/Gouvernement_Manuel_Valls_(2)\" }\n",
    "\n",
    "all_gouv = pd.DataFrame(columns=['gouvernement', 'wiki', 'fonctions'])\n",
    "for keys, values in dict_holland.items():\n",
    "    gouv = pd.DataFrame()\n",
    "    (fonction_ministres_clean, wiki_ministres_clean) = get_my_gouv('https://fr.wikipedia.org' + values)\n",
    "    gouv[\"wiki\"] = wiki_ministres_clean\n",
    "    gouv[\"fonctions\"] = fonction_ministres_clean\n",
    "    gouv[\"gouvernement\"] = keys\n",
    "    all_gouv = pd.concat([all_gouv, gouv])\n",
    "    \n",
    "# -- Export\n",
    "all_gouv = all_gouv.ix[:, ['gouvernement', 'wiki', 'fonctions']] # changement de l'ordre des colonnes\n",
    "all_gouv.to_csv(path_file + 'gouvernements_ministres.csv', sep=';',encoding='utf-8')"
   ]
  },
  {
   "cell_type": "code",
   "execution_count": 201,
   "metadata": {
    "collapsed": false
   },
   "outputs": [
    {
     "data": {
      "text/html": [
       "<div>\n",
       "<table border=\"1\" class=\"dataframe\">\n",
       "  <thead>\n",
       "    <tr style=\"text-align: right;\">\n",
       "      <th></th>\n",
       "      <th>gouvernement</th>\n",
       "      <th>wiki</th>\n",
       "      <th>fonctions</th>\n",
       "    </tr>\n",
       "  </thead>\n",
       "  <tbody>\n",
       "    <tr>\n",
       "      <th>0</th>\n",
       "      <td>holland_valls_2</td>\n",
       "      <td>/wiki/Manuel_Valls</td>\n",
       "      <td>/ Premier ministre / Manuel Valls / PS</td>\n",
       "    </tr>\n",
       "    <tr>\n",
       "      <th>1</th>\n",
       "      <td>holland_valls_2</td>\n",
       "      <td>/wiki/Jean-Marc_Ayrault</td>\n",
       "      <td>Ministre des Affaires étrangères et du Développement international / Jean-Marc Ayrault / PS</td>\n",
       "    </tr>\n",
       "    <tr>\n",
       "      <th>2</th>\n",
       "      <td>holland_valls_2</td>\n",
       "      <td>/wiki/S%C3%A9gol%C3%A8ne_Royal</td>\n",
       "      <td>Ministre de l'Environnement, de l'Énergie et de la Mer, chargée des relations internationales sur le climat / Ségolène Royal / PS</td>\n",
       "    </tr>\n",
       "  </tbody>\n",
       "</table>\n",
       "</div>"
      ],
      "text/plain": [
       "      gouvernement                            wiki  \\\n",
       "0  holland_valls_2              /wiki/Manuel_Valls   \n",
       "1  holland_valls_2         /wiki/Jean-Marc_Ayrault   \n",
       "2  holland_valls_2  /wiki/S%C3%A9gol%C3%A8ne_Royal   \n",
       "\n",
       "                                                                                                                           fonctions  \n",
       "0                                                                                             / Premier ministre / Manuel Valls / PS  \n",
       "1                                        Ministre des Affaires étrangères et du Développement international / Jean-Marc Ayrault / PS  \n",
       "2  Ministre de l'Environnement, de l'Énergie et de la Mer, chargée des relations internationales sur le climat / Ségolène Royal / PS  "
      ]
     },
     "execution_count": 201,
     "metadata": {},
     "output_type": "execute_result"
    }
   ],
   "source": [
    "all_gouv.head(3)"
   ]
  },
  {
   "cell_type": "markdown",
   "metadata": {},
   "source": [
    "## Test\n",
    "Vérifions qu'il ya bien autant de ministres que de fonction. Visuellement."
   ]
  },
  {
   "cell_type": "code",
   "execution_count": 201,
   "metadata": {
    "collapsed": false,
    "scrolled": false
   },
   "outputs": [
    {
     "name": "stdout",
     "output_type": "stream",
     "text": [
      "39 ministres trouvés\n"
     ]
    }
   ],
   "source": [
    "(fonction_ministres_clean, wiki_ministres_clean) = get_my_gouv(\"https://fr.wikipedia.org\" + dict_holland[\"holland_valls_2\"])"
   ]
  },
  {
   "cell_type": "code",
   "execution_count": 53,
   "metadata": {
    "collapsed": true
   },
   "outputs": [
    {
     "data": {
      "text/html": [
       "<div>\n",
       "<table border=\"1\" class=\"dataframe\">\n",
       "  <thead>\n",
       "    <tr style=\"text-align: right;\">\n",
       "      <th></th>\n",
       "      <th>wiki_ministres</th>\n",
       "      <th>fonction_ministres</th>\n",
       "    </tr>\n",
       "  </thead>\n",
       "  <tbody>\n",
       "    <tr>\n",
       "      <th>0</th>\n",
       "      <td>/wiki/Jean-Marc_Ayrault</td>\n",
       "      <td>/ Premier ministre / Jean-Marc Ayrault / PS</td>\n",
       "    </tr>\n",
       "    <tr>\n",
       "      <th>1</th>\n",
       "      <td>/wiki/Laurent_Fabius</td>\n",
       "      <td>Ministre des Affaires étrangères / Laurent Fabius / PS</td>\n",
       "    </tr>\n",
       "    <tr>\n",
       "      <th>2</th>\n",
       "      <td>/wiki/Vincent_Peillon</td>\n",
       "      <td>Ministre de l'Éducation nationale / Vincent Peillon / PS</td>\n",
       "    </tr>\n",
       "    <tr>\n",
       "      <th>3</th>\n",
       "      <td>/wiki/Christiane_Taubira</td>\n",
       "      <td>Garde des Sceaux / ministre de la Justice / Christiane Taubira / PRG / Walwari</td>\n",
       "    </tr>\n",
       "    <tr>\n",
       "      <th>4</th>\n",
       "      <td>/wiki/Pierre_Moscovici</td>\n",
       "      <td>Ministre de l'Économie et des Finances / Pierre Moscovici / PS</td>\n",
       "    </tr>\n",
       "    <tr>\n",
       "      <th>5</th>\n",
       "      <td>/wiki/Marisol_Touraine</td>\n",
       "      <td>Ministre des Affaires sociales et de la Santé / Marisol Touraine / PS</td>\n",
       "    </tr>\n",
       "    <tr>\n",
       "      <th>6</th>\n",
       "      <td>/wiki/C%C3%A9cile_Duflot</td>\n",
       "      <td>Ministre de l'Égalité des territoires et du Logement / Cécile Duflot / EELV</td>\n",
       "    </tr>\n",
       "    <tr>\n",
       "      <th>7</th>\n",
       "      <td>/wiki/Manuel_Valls</td>\n",
       "      <td>Ministre de l'Intérieur / Manuel Valls / PS</td>\n",
       "    </tr>\n",
       "    <tr>\n",
       "      <th>8</th>\n",
       "      <td>/wiki/Nicole_Bricq</td>\n",
       "      <td>Ministre du Commerce extérieur / Nicole Bricq / PS</td>\n",
       "    </tr>\n",
       "    <tr>\n",
       "      <th>9</th>\n",
       "      <td>/wiki/Arnaud_Montebourg</td>\n",
       "      <td>Ministre du Redressement productif / Arnaud Montebourg / PS</td>\n",
       "    </tr>\n",
       "    <tr>\n",
       "      <th>10</th>\n",
       "      <td>/wiki/Philippe_Martin_(homme_politique,_1953)</td>\n",
       "      <td>Ministre de l'Écologie, du Développement durable et de l'Énergie / Philippe Martin / [7] / PS</td>\n",
       "    </tr>\n",
       "    <tr>\n",
       "      <th>11</th>\n",
       "      <td>/wiki/Michel_Sapin</td>\n",
       "      <td>Ministre du Travail, de l'Emploi, de la Formation professionnelle et du Dialogue social / Michel Sapin / PS</td>\n",
       "    </tr>\n",
       "    <tr>\n",
       "      <th>12</th>\n",
       "      <td>/wiki/Jean-Yves_Le_Drian</td>\n",
       "      <td>Ministre de la Défense / Jean-Yves Le Drian / PS</td>\n",
       "    </tr>\n",
       "    <tr>\n",
       "      <th>13</th>\n",
       "      <td>/wiki/Aur%C3%A9lie_Filippetti</td>\n",
       "      <td>Ministre de la Culture et de la Communication / Aurélie Filippetti / PS</td>\n",
       "    </tr>\n",
       "    <tr>\n",
       "      <th>14</th>\n",
       "      <td>/wiki/Genevi%C3%A8ve_Fioraso</td>\n",
       "      <td>Ministre de l'Enseignement supérieur et de la Recherche / Geneviève Fioraso / PS</td>\n",
       "    </tr>\n",
       "    <tr>\n",
       "      <th>15</th>\n",
       "      <td>/wiki/Najat_Vallaud-Belkacem</td>\n",
       "      <td>Ministre des Droits des femmes / porte-parole du gouvernement / Najat Vallaud-Belkacem / PS</td>\n",
       "    </tr>\n",
       "    <tr>\n",
       "      <th>16</th>\n",
       "      <td>/wiki/St%C3%A9phane_Le_Foll</td>\n",
       "      <td>Ministre de l'Agriculture, de l'Agroalimentaire et de la Forêt / Stéphane Le Foll / PS</td>\n",
       "    </tr>\n",
       "    <tr>\n",
       "      <th>17</th>\n",
       "      <td>/wiki/Marylise_Lebranchu</td>\n",
       "      <td>Ministre de la Réforme de l'État, de la Décentralisation et de la Fonction publique / Marylise Lebranchu / PS</td>\n",
       "    </tr>\n",
       "    <tr>\n",
       "      <th>18</th>\n",
       "      <td>/wiki/Victorin_Lurel</td>\n",
       "      <td>Ministre des Outre-mer / Victorin Lurel / PS</td>\n",
       "    </tr>\n",
       "    <tr>\n",
       "      <th>19</th>\n",
       "      <td>/wiki/Sylvia_Pinel</td>\n",
       "      <td>Ministre de l'Artisanat, du Commerce et du Tourisme / Sylvia Pinel / PRG</td>\n",
       "    </tr>\n",
       "    <tr>\n",
       "      <th>20</th>\n",
       "      <td>/wiki/Val%C3%A9rie_Fourneyron</td>\n",
       "      <td>Ministre des Sports, de la Jeunesse, de l'Éducation populaire et de la Vie associative / Valérie Fourneyron / PS</td>\n",
       "    </tr>\n",
       "    <tr>\n",
       "      <th>21</th>\n",
       "      <td>/wiki/Bernard_Cazeneuve</td>\n",
       "      <td>Ministre délégué au Budget / Ministre de l'Économie et des Finances / Bernard Cazeneuve / [8] / PS</td>\n",
       "    </tr>\n",
       "    <tr>\n",
       "      <th>22</th>\n",
       "      <td>/wiki/Thierry_Repentin</td>\n",
       "      <td>Ministre délégué aux Affaires européennes / Ministre des Affaires étrangères / Thierry Repentin / [9] / PS</td>\n",
       "    </tr>\n",
       "    <tr>\n",
       "      <th>23</th>\n",
       "      <td>/wiki/George_Pau-Langevin</td>\n",
       "      <td>Ministre de l'Éducation nationale / George Pau-Langevin / PS</td>\n",
       "    </tr>\n",
       "    <tr>\n",
       "      <th>24</th>\n",
       "      <td>/wiki/Alain_Vidalies</td>\n",
       "      <td>Ministre délégué aux Relations avec le Parlement / Premier ministre / Alain Vidalies / PS</td>\n",
       "    </tr>\n",
       "    <tr>\n",
       "      <th>25</th>\n",
       "      <td>/wiki/Fran%C3%A7ois_Lamy</td>\n",
       "      <td>Ministre délégué à la Ville / Ministre de l'Égalité des territoires et du Logement / François Lamy / PS</td>\n",
       "    </tr>\n",
       "    <tr>\n",
       "      <th>26</th>\n",
       "      <td>/wiki/Mich%C3%A8le_Delaunay</td>\n",
       "      <td>Ministre des Affaires sociales et de la Santé / Michèle Delaunay / PS</td>\n",
       "    </tr>\n",
       "    <tr>\n",
       "      <th>27</th>\n",
       "      <td>/wiki/Beno%C3%AEt_Hamon</td>\n",
       "      <td>Ministre délégué à l'Économie sociale et solidaire / Consommation / Ministre de l'Économie et des Finances / Benoît Hamon / PS</td>\n",
       "    </tr>\n",
       "    <tr>\n",
       "      <th>28</th>\n",
       "      <td>/wiki/Dominique_Bertinotti</td>\n",
       "      <td>Ministre déléguée à la Famille / Ministre des Affaires sociales et de la Santé / Dominique Bertinotti / PS</td>\n",
       "    </tr>\n",
       "    <tr>\n",
       "      <th>29</th>\n",
       "      <td>/wiki/Marie-Arlette_Carlotti</td>\n",
       "      <td>Ministre déléguée aux Personnes handicapées et à la Lutte contre l'exclusion / Ministre des Affaires sociales et de la Santé / Marie-Arlette Carlotti / PS</td>\n",
       "    </tr>\n",
       "    <tr>\n",
       "      <th>30</th>\n",
       "      <td>/wiki/Pascal_Canfin</td>\n",
       "      <td>Ministre des Affaires étrangères / Pascal Canfin / EELV</td>\n",
       "    </tr>\n",
       "    <tr>\n",
       "      <th>31</th>\n",
       "      <td>/wiki/Yamina_Benguigui</td>\n",
       "      <td>Ministre déléguée à la Francophonie / Ministre des Affaires étrangères / Yamina Benguigui / DVG</td>\n",
       "    </tr>\n",
       "    <tr>\n",
       "      <th>32</th>\n",
       "      <td>/wiki/Fr%C3%A9d%C3%A9ric_Cuvillier</td>\n",
       "      <td>Ministre délégué aux Transports, à la Mer et la Pêche / Ministre de l'Écologie, du Développement durable et de l'Énergie / Frédéric Cuvillier / PS</td>\n",
       "    </tr>\n",
       "    <tr>\n",
       "      <th>33</th>\n",
       "      <td>/wiki/Fleur_Pellerin</td>\n",
       "      <td>Ministre du Redressement productif / Fleur Pellerin / PS</td>\n",
       "    </tr>\n",
       "    <tr>\n",
       "      <th>34</th>\n",
       "      <td>/wiki/Kader_Arif</td>\n",
       "      <td>Ministre délégué aux Anciens combattants / Ministre de la Défense / Kader Arif / PS</td>\n",
       "    </tr>\n",
       "    <tr>\n",
       "      <th>35</th>\n",
       "      <td>/wiki/Anne-Marie_Escoffier</td>\n",
       "      <td>Ministre de la Réforme de l'État, de la Décentralisation et de la Fonction publique / Anne-Marie Escoffier / PRG</td>\n",
       "    </tr>\n",
       "    <tr>\n",
       "      <th>36</th>\n",
       "      <td>/wiki/Guillaume_Garot</td>\n",
       "      <td>Ministre de l'Agriculture, de l'Agroalimentaire et de la Forêt / Guillaume Garot / PS</td>\n",
       "    </tr>\n",
       "    <tr>\n",
       "      <th>37</th>\n",
       "      <td>/wiki/H%C3%A9l%C3%A8ne_Conway-Mouret</td>\n",
       "      <td>Ministre des Affaires étrangères / Hélène Conway-Mouret / PS</td>\n",
       "    </tr>\n",
       "  </tbody>\n",
       "</table>\n",
       "</div>"
      ],
      "text/plain": [
       "                                   wiki_ministres  \\\n",
       "0                         /wiki/Jean-Marc_Ayrault   \n",
       "1                            /wiki/Laurent_Fabius   \n",
       "2                           /wiki/Vincent_Peillon   \n",
       "3                        /wiki/Christiane_Taubira   \n",
       "4                          /wiki/Pierre_Moscovici   \n",
       "5                          /wiki/Marisol_Touraine   \n",
       "6                        /wiki/C%C3%A9cile_Duflot   \n",
       "7                              /wiki/Manuel_Valls   \n",
       "8                              /wiki/Nicole_Bricq   \n",
       "9                         /wiki/Arnaud_Montebourg   \n",
       "10  /wiki/Philippe_Martin_(homme_politique,_1953)   \n",
       "11                             /wiki/Michel_Sapin   \n",
       "12                       /wiki/Jean-Yves_Le_Drian   \n",
       "13                  /wiki/Aur%C3%A9lie_Filippetti   \n",
       "14                   /wiki/Genevi%C3%A8ve_Fioraso   \n",
       "15                   /wiki/Najat_Vallaud-Belkacem   \n",
       "16                    /wiki/St%C3%A9phane_Le_Foll   \n",
       "17                       /wiki/Marylise_Lebranchu   \n",
       "18                           /wiki/Victorin_Lurel   \n",
       "19                             /wiki/Sylvia_Pinel   \n",
       "20                  /wiki/Val%C3%A9rie_Fourneyron   \n",
       "21                        /wiki/Bernard_Cazeneuve   \n",
       "22                         /wiki/Thierry_Repentin   \n",
       "23                      /wiki/George_Pau-Langevin   \n",
       "24                           /wiki/Alain_Vidalies   \n",
       "25                       /wiki/Fran%C3%A7ois_Lamy   \n",
       "26                    /wiki/Mich%C3%A8le_Delaunay   \n",
       "27                        /wiki/Beno%C3%AEt_Hamon   \n",
       "28                     /wiki/Dominique_Bertinotti   \n",
       "29                   /wiki/Marie-Arlette_Carlotti   \n",
       "30                            /wiki/Pascal_Canfin   \n",
       "31                         /wiki/Yamina_Benguigui   \n",
       "32             /wiki/Fr%C3%A9d%C3%A9ric_Cuvillier   \n",
       "33                           /wiki/Fleur_Pellerin   \n",
       "34                               /wiki/Kader_Arif   \n",
       "35                     /wiki/Anne-Marie_Escoffier   \n",
       "36                          /wiki/Guillaume_Garot   \n",
       "37           /wiki/H%C3%A9l%C3%A8ne_Conway-Mouret   \n",
       "\n",
       "                                                                                                                                            fonction_ministres  \n",
       "0                                                                                                                  / Premier ministre / Jean-Marc Ayrault / PS  \n",
       "1                                                                                                       Ministre des Affaires étrangères / Laurent Fabius / PS  \n",
       "2                                                                                                     Ministre de l'Éducation nationale / Vincent Peillon / PS  \n",
       "3                                                                               Garde des Sceaux / ministre de la Justice / Christiane Taubira / PRG / Walwari  \n",
       "4                                                                                               Ministre de l'Économie et des Finances / Pierre Moscovici / PS  \n",
       "5                                                                                        Ministre des Affaires sociales et de la Santé / Marisol Touraine / PS  \n",
       "6                                                                                  Ministre de l'Égalité des territoires et du Logement / Cécile Duflot / EELV  \n",
       "7                                                                                                                  Ministre de l'Intérieur / Manuel Valls / PS  \n",
       "8                                                                                                           Ministre du Commerce extérieur / Nicole Bricq / PS  \n",
       "9                                                                                                  Ministre du Redressement productif / Arnaud Montebourg / PS  \n",
       "10                                                               Ministre de l'Écologie, du Développement durable et de l'Énergie / Philippe Martin / [7] / PS  \n",
       "11                                                 Ministre du Travail, de l'Emploi, de la Formation professionnelle et du Dialogue social / Michel Sapin / PS  \n",
       "12                                                                                                            Ministre de la Défense / Jean-Yves Le Drian / PS  \n",
       "13                                                                                     Ministre de la Culture et de la Communication / Aurélie Filippetti / PS  \n",
       "14                                                                            Ministre de l'Enseignement supérieur et de la Recherche / Geneviève Fioraso / PS  \n",
       "15                                                                 Ministre des Droits des femmes / porte-parole du gouvernement / Najat Vallaud-Belkacem / PS  \n",
       "16                                                                      Ministre de l'Agriculture, de l'Agroalimentaire et de la Forêt / Stéphane Le Foll / PS  \n",
       "17                                               Ministre de la Réforme de l'État, de la Décentralisation et de la Fonction publique / Marylise Lebranchu / PS  \n",
       "18                                                                                                                Ministre des Outre-mer / Victorin Lurel / PS  \n",
       "19                                                                                    Ministre de l'Artisanat, du Commerce et du Tourisme / Sylvia Pinel / PRG  \n",
       "20                                            Ministre des Sports, de la Jeunesse, de l'Éducation populaire et de la Vie associative / Valérie Fourneyron / PS  \n",
       "21                                                          Ministre délégué au Budget / Ministre de l'Économie et des Finances / Bernard Cazeneuve / [8] / PS  \n",
       "22                                                  Ministre délégué aux Affaires européennes / Ministre des Affaires étrangères / Thierry Repentin / [9] / PS  \n",
       "23                                                                                                Ministre de l'Éducation nationale / George Pau-Langevin / PS  \n",
       "24                                                                   Ministre délégué aux Relations avec le Parlement / Premier ministre / Alain Vidalies / PS  \n",
       "25                                                     Ministre délégué à la Ville / Ministre de l'Égalité des territoires et du Logement / François Lamy / PS  \n",
       "26                                                                                       Ministre des Affaires sociales et de la Santé / Michèle Delaunay / PS  \n",
       "27                              Ministre délégué à l'Économie sociale et solidaire / Consommation / Ministre de l'Économie et des Finances / Benoît Hamon / PS  \n",
       "28                                                  Ministre déléguée à la Famille / Ministre des Affaires sociales et de la Santé / Dominique Bertinotti / PS  \n",
       "29  Ministre déléguée aux Personnes handicapées et à la Lutte contre l'exclusion / Ministre des Affaires sociales et de la Santé / Marie-Arlette Carlotti / PS  \n",
       "30                                                                                                     Ministre des Affaires étrangères / Pascal Canfin / EELV  \n",
       "31                                                             Ministre déléguée à la Francophonie / Ministre des Affaires étrangères / Yamina Benguigui / DVG  \n",
       "32          Ministre délégué aux Transports, à la Mer et la Pêche / Ministre de l'Écologie, du Développement durable et de l'Énergie / Frédéric Cuvillier / PS  \n",
       "33                                                                                                    Ministre du Redressement productif / Fleur Pellerin / PS  \n",
       "34                                                                         Ministre délégué aux Anciens combattants / Ministre de la Défense / Kader Arif / PS  \n",
       "35                                            Ministre de la Réforme de l'État, de la Décentralisation et de la Fonction publique / Anne-Marie Escoffier / PRG  \n",
       "36                                                                       Ministre de l'Agriculture, de l'Agroalimentaire et de la Forêt / Guillaume Garot / PS  \n",
       "37                                                                                                Ministre des Affaires étrangères / Hélène Conway-Mouret / PS  "
      ]
     },
     "execution_count": 53,
     "metadata": {},
     "output_type": "execute_result"
    }
   ],
   "source": [
    "pd.options.display.max_colwidth = 300\n",
    "df = pd.DataFrame()\n",
    "df['wiki_ministres'] = wiki_ministres_clean\n",
    "df1 = pd.DataFrame()\n",
    "df1['fonction_ministres'] = pd.Series(fonction_ministres_clean)\n",
    "\n",
    "df.merge(df1, left_index=True, right_index=True, how='outer')  # changer 'left' ou 'right' pour identifier un éventuel pb\n",
    "#df['fonctions_ministres'] = fonction_ministres_clean"
   ]
  },
  {
   "cell_type": "markdown",
   "metadata": {},
   "source": [
    "###  * Nettoyage sur LibreOffice * \n",
    "\n",
    "Clean des colonnes su LibreOffice car texte parfois trop non-struturé."
   ]
  },
  {
   "cell_type": "code",
   "execution_count": 232,
   "metadata": {
    "collapsed": false
   },
   "outputs": [],
   "source": [
    "all_gouv_clean = pd.read_csv(path_file + 'gouvernements_ministres_clean.csv', sep=';', header=0)\n",
    "all_gouv_clean.columns = ['gouvernement', 'wiki', 'fonctions', 'Nom', 'Parti']"
   ]
  },
  {
   "cell_type": "code",
   "execution_count": 234,
   "metadata": {
    "collapsed": false
   },
   "outputs": [
    {
     "data": {
      "text/html": [
       "<div>\n",
       "<table border=\"1\" class=\"dataframe\">\n",
       "  <thead>\n",
       "    <tr style=\"text-align: right;\">\n",
       "      <th></th>\n",
       "      <th>gouvernement</th>\n",
       "      <th>wiki</th>\n",
       "      <th>fonctions</th>\n",
       "      <th>Nom</th>\n",
       "      <th>Parti</th>\n",
       "    </tr>\n",
       "  </thead>\n",
       "  <tbody>\n",
       "    <tr>\n",
       "      <th>0</th>\n",
       "      <td>holland_valls_2</td>\n",
       "      <td>/wiki/Manuel_Valls</td>\n",
       "      <td>Premier ministre</td>\n",
       "      <td>Manuel Valls</td>\n",
       "      <td>PS</td>\n",
       "    </tr>\n",
       "    <tr>\n",
       "      <th>1</th>\n",
       "      <td>holland_valls_2</td>\n",
       "      <td>/wiki/Jean-Marc_Ayrault</td>\n",
       "      <td>Ministre des Affaires étrangères et du Développement international</td>\n",
       "      <td>Jean-Marc Ayrault</td>\n",
       "      <td>PS</td>\n",
       "    </tr>\n",
       "    <tr>\n",
       "      <th>2</th>\n",
       "      <td>holland_valls_2</td>\n",
       "      <td>/wiki/S%C3%A9gol%C3%A8ne_Royal</td>\n",
       "      <td>Ministre de l'Environnement, de l'Énergie et de la Mer, chargée des relations internationales sur le climat</td>\n",
       "      <td>Ségolène Royal</td>\n",
       "      <td>PS</td>\n",
       "    </tr>\n",
       "  </tbody>\n",
       "</table>\n",
       "</div>"
      ],
      "text/plain": [
       "      gouvernement                            wiki  \\\n",
       "0  holland_valls_2              /wiki/Manuel_Valls   \n",
       "1  holland_valls_2         /wiki/Jean-Marc_Ayrault   \n",
       "2  holland_valls_2  /wiki/S%C3%A9gol%C3%A8ne_Royal   \n",
       "\n",
       "                                                                                                      fonctions  \\\n",
       "0                                                                                             Premier ministre    \n",
       "1                                           Ministre des Affaires étrangères et du Développement international    \n",
       "2  Ministre de l'Environnement, de l'Énergie et de la Mer, chargée des relations internationales sur le climat    \n",
       "\n",
       "                   Nom Parti  \n",
       "0        Manuel Valls     PS  \n",
       "1   Jean-Marc Ayrault     PS  \n",
       "2      Ségolène Royal     PS  "
      ]
     },
     "execution_count": 234,
     "metadata": {},
     "output_type": "execute_result"
    }
   ],
   "source": [
    "all_gouv_clean.head(3)"
   ]
  },
  {
   "cell_type": "markdown",
   "metadata": {},
   "source": [
    "## Looping the ministres"
   ]
  },
  {
   "cell_type": "markdown",
   "metadata": {},
   "source": [
    "## select a ministre\n"
   ]
  },
  {
   "cell_type": "code",
   "execution_count": 54,
   "metadata": {
    "collapsed": true
   },
   "outputs": [],
   "source": [
    "dict_holland_char = {'holland_ayrault_1': \"/wiki/Gouvernement_Jean-Marc_Ayrault_\\(1\\)\",\n",
    "                    'holland_ayrault_2': \"/wiki/Gouvernement_Jean-Marc_Ayrault_\\(2\\)\",\n",
    "                    'holland_valls_1': \"/wiki/Gouvernement_Manuel_Valls_\\(1\\)\",\n",
    "                    'holland_valls_2': \"/wiki/Gouvernement_Manuel_Valls_\\(2\\)\" }"
   ]
  },
  {
   "cell_type": "code",
   "execution_count": 206,
   "metadata": {
    "collapsed": false
   },
   "outputs": [],
   "source": [
    "def get_lifespan_ministres(gouv_name):\n",
    "    (fonction_ministres_clean, wiki_ministres_clean) = get_my_gouv('https://fr.wikipedia.org' + dict_holland[gouv_name])\n",
    "    all_dates = []\n",
    "    all_birthdays = []\n",
    "    all_names = []\n",
    "    for ministre in wiki_ministres_clean:\n",
    "        page_ministre = \"https://fr.wikipedia.org\" + ministre\n",
    "        header = {'User-Agent': 'Mozilla/5.0'} #Needed to prevent 403 error on Wikipedia\n",
    "        page = request.Request(page_ministre, headers=header)\n",
    "        html = request.urlopen(page)\n",
    "        soup = BeautifulSoup(html, \"lxml\")\n",
    "        cells = soup.find('table', {'class': 'infobox_v2'})  # selection du tableau de droite\n",
    "        # -- Names\n",
    "        all_names.append(cells.find('td', {'class': 'entete defaut'}).getText())\n",
    "        # -- Birthdays\n",
    "        all_birthdays.append(cells.find('time', {'class': 'nowrap date-lien bday'})['datetime'])\n",
    "        # -- Lifespan\n",
    "        cells_gouv = cells.find('a', href=re.compile(dict_holland_char[gouv_name]))  # selection du gouvernement\n",
    "        l_dates = []\n",
    "        try: # recherche de(s) (la) date(s) immédiatement au dessus de 'gouvernement'\n",
    "            cells_date = cells_gouv.findPrevious('b').findAll('time')  \n",
    "            for c_dates in cells_date:\n",
    "                l_dates.append(c_dates['datetime'])\n",
    "        except AttributeError:\n",
    "            print(\"pas de date trouvée pour le ministre %s\" % (ministre))\n",
    "            l_dates.append(\"Non_trouvee\")\n",
    "        all_dates.append(l_dates)\n",
    "\n",
    "    # -- clean date\n",
    "    date_debut = [x[0] for x in all_dates]\n",
    "    date_fin = [x[1] if (len(x) == 2) else pd.datetime.today().date() for x in all_dates]\n",
    "    # -- Results table    \n",
    "    df_date = pd.DataFrame()\n",
    "    df_date['wiki'] = wiki_ministres_clean\n",
    "    df_date['Nom'] = all_names\n",
    "    df_date['birthday'] = pd.to_datetime(all_birthdays, errors='coerce')\n",
    "    df_date['date_debut'] = pd.to_datetime(date_debut, errors='coerce')\n",
    "    df_date['date_fin'] = pd.to_datetime(date_fin, errors='coerce')\n",
    "    df_date['duree_mendat'] = df_date['date_fin'] - df_date['date_debut']\n",
    "    df_date['gouvernement'] = gouv_name\n",
    "    df_date = df_date.ix[:, ['gouvernement', 'wiki', 'Nom', 'birthday', 'date_debut', 'date_fin', 'duree_mendat']]\n",
    "    return df_date"
   ]
  },
  {
   "cell_type": "markdown",
   "metadata": {},
   "source": [
    "## Run"
   ]
  },
  {
   "cell_type": "code",
   "execution_count": 207,
   "metadata": {
    "collapsed": false,
    "scrolled": false
   },
   "outputs": [
    {
     "name": "stdout",
     "output_type": "stream",
     "text": [
      "39 ministres trouvés\n",
      "pas de date trouvée pour le ministre /wiki/Juliette_M%C3%A9adel\n",
      "32 ministres trouvés\n",
      "35 ministres trouvés\n",
      "38 ministres trouvés\n"
     ]
    }
   ],
   "source": [
    "all_lifespan = pd.DataFrame()\n",
    "for keys, values in dict_holland_char.items():\n",
    "    df_date = get_lifespan_ministres(keys)\n",
    "    all_lifespan = pd.concat([df_date, all_lifespan])\n",
    "    all_lifespan.to_csv(path_file + 'ministres_lifespan.csv', sep=';')"
   ]
  },
  {
   "cell_type": "code",
   "execution_count": 208,
   "metadata": {
    "collapsed": false
   },
   "outputs": [
    {
     "data": {
      "text/html": [
       "<div>\n",
       "<table border=\"1\" class=\"dataframe\">\n",
       "  <thead>\n",
       "    <tr style=\"text-align: right;\">\n",
       "      <th></th>\n",
       "      <th>gouvernement</th>\n",
       "      <th>wiki</th>\n",
       "      <th>Nom</th>\n",
       "      <th>birthday</th>\n",
       "      <th>date_debut</th>\n",
       "      <th>date_fin</th>\n",
       "      <th>duree_mendat</th>\n",
       "    </tr>\n",
       "  </thead>\n",
       "  <tbody>\n",
       "    <tr>\n",
       "      <th>0</th>\n",
       "      <td>holland_ayrault_2</td>\n",
       "      <td>/wiki/Jean-Marc_Ayrault</td>\n",
       "      <td>Jean-Marc Ayrault</td>\n",
       "      <td>1950-01-25</td>\n",
       "      <td>2012-05-15</td>\n",
       "      <td>2014-03-31</td>\n",
       "      <td>685 days</td>\n",
       "    </tr>\n",
       "    <tr>\n",
       "      <th>1</th>\n",
       "      <td>holland_ayrault_2</td>\n",
       "      <td>/wiki/Laurent_Fabius</td>\n",
       "      <td>Laurent Fabius</td>\n",
       "      <td>1946-08-20</td>\n",
       "      <td>2012-05-16</td>\n",
       "      <td>2016-02-11</td>\n",
       "      <td>1366 days</td>\n",
       "    </tr>\n",
       "    <tr>\n",
       "      <th>2</th>\n",
       "      <td>holland_ayrault_2</td>\n",
       "      <td>/wiki/Vincent_Peillon</td>\n",
       "      <td>Vincent Peillon</td>\n",
       "      <td>1960-07-07</td>\n",
       "      <td>2012-05-16</td>\n",
       "      <td>2014-03-31</td>\n",
       "      <td>684 days</td>\n",
       "    </tr>\n",
       "    <tr>\n",
       "      <th>3</th>\n",
       "      <td>holland_ayrault_2</td>\n",
       "      <td>/wiki/Christiane_Taubira</td>\n",
       "      <td>Christiane Taubira</td>\n",
       "      <td>1952-02-02</td>\n",
       "      <td>2012-05-16</td>\n",
       "      <td>2016-01-27</td>\n",
       "      <td>1351 days</td>\n",
       "    </tr>\n",
       "    <tr>\n",
       "      <th>4</th>\n",
       "      <td>holland_ayrault_2</td>\n",
       "      <td>/wiki/Pierre_Moscovici</td>\n",
       "      <td>Pierre Moscovici</td>\n",
       "      <td>1957-09-16</td>\n",
       "      <td>2012-05-16</td>\n",
       "      <td>2014-03-31</td>\n",
       "      <td>684 days</td>\n",
       "    </tr>\n",
       "  </tbody>\n",
       "</table>\n",
       "</div>"
      ],
      "text/plain": [
       "        gouvernement                      wiki                 Nom   birthday  \\\n",
       "0  holland_ayrault_2   /wiki/Jean-Marc_Ayrault   Jean-Marc Ayrault 1950-01-25   \n",
       "1  holland_ayrault_2      /wiki/Laurent_Fabius      Laurent Fabius 1946-08-20   \n",
       "2  holland_ayrault_2     /wiki/Vincent_Peillon     Vincent Peillon 1960-07-07   \n",
       "3  holland_ayrault_2  /wiki/Christiane_Taubira  Christiane Taubira 1952-02-02   \n",
       "4  holland_ayrault_2    /wiki/Pierre_Moscovici    Pierre Moscovici 1957-09-16   \n",
       "\n",
       "  date_debut   date_fin  duree_mendat  \n",
       "0 2012-05-15 2014-03-31      685 days  \n",
       "1 2012-05-16 2016-02-11     1366 days  \n",
       "2 2012-05-16 2014-03-31      684 days  \n",
       "3 2012-05-16 2016-01-27     1351 days  \n",
       "4 2012-05-16 2014-03-31      684 days  "
      ]
     },
     "execution_count": 208,
     "metadata": {},
     "output_type": "execute_result"
    }
   ],
   "source": [
    "all_lifespan.head()"
   ]
  },
  {
   "cell_type": "markdown",
   "metadata": {},
   "source": [
    "# Merge"
   ]
  },
  {
   "cell_type": "code",
   "execution_count": 236,
   "metadata": {
    "collapsed": false
   },
   "outputs": [
    {
     "data": {
      "text/html": [
       "<div>\n",
       "<table border=\"1\" class=\"dataframe\">\n",
       "  <thead>\n",
       "    <tr style=\"text-align: right;\">\n",
       "      <th></th>\n",
       "      <th>gouvernement</th>\n",
       "      <th>wiki</th>\n",
       "      <th>fonctions</th>\n",
       "      <th>Nom</th>\n",
       "      <th>Parti</th>\n",
       "    </tr>\n",
       "  </thead>\n",
       "  <tbody>\n",
       "    <tr>\n",
       "      <th>0</th>\n",
       "      <td>holland_valls_2</td>\n",
       "      <td>/wiki/Manuel_Valls</td>\n",
       "      <td>Premier ministre</td>\n",
       "      <td>Manuel Valls</td>\n",
       "      <td>PS</td>\n",
       "    </tr>\n",
       "  </tbody>\n",
       "</table>\n",
       "</div>"
      ],
      "text/plain": [
       "      gouvernement                wiki           fonctions             Nom  \\\n",
       "0  holland_valls_2  /wiki/Manuel_Valls   Premier ministre    Manuel Valls    \n",
       "\n",
       "  Parti  \n",
       "0    PS  "
      ]
     },
     "execution_count": 236,
     "metadata": {},
     "output_type": "execute_result"
    }
   ],
   "source": [
    "all_gouv_clean.head(1)"
   ]
  },
  {
   "cell_type": "code",
   "execution_count": 237,
   "metadata": {
    "collapsed": false
   },
   "outputs": [
    {
     "data": {
      "text/html": [
       "<div>\n",
       "<table border=\"1\" class=\"dataframe\">\n",
       "  <thead>\n",
       "    <tr style=\"text-align: right;\">\n",
       "      <th></th>\n",
       "      <th>gouvernement</th>\n",
       "      <th>wiki</th>\n",
       "      <th>Nom</th>\n",
       "      <th>birthday</th>\n",
       "      <th>date_debut</th>\n",
       "      <th>date_fin</th>\n",
       "      <th>duree_mendat</th>\n",
       "    </tr>\n",
       "  </thead>\n",
       "  <tbody>\n",
       "    <tr>\n",
       "      <th>0</th>\n",
       "      <td>holland_ayrault_2</td>\n",
       "      <td>/wiki/Jean-Marc_Ayrault</td>\n",
       "      <td>Jean-Marc Ayrault</td>\n",
       "      <td>1950-01-25</td>\n",
       "      <td>2012-05-15</td>\n",
       "      <td>2014-03-31</td>\n",
       "      <td>685 days</td>\n",
       "    </tr>\n",
       "  </tbody>\n",
       "</table>\n",
       "</div>"
      ],
      "text/plain": [
       "        gouvernement                     wiki                Nom   birthday  \\\n",
       "0  holland_ayrault_2  /wiki/Jean-Marc_Ayrault  Jean-Marc Ayrault 1950-01-25   \n",
       "\n",
       "  date_debut   date_fin  duree_mendat  \n",
       "0 2012-05-15 2014-03-31      685 days  "
      ]
     },
     "execution_count": 237,
     "metadata": {},
     "output_type": "execute_result"
    }
   ],
   "source": [
    "all_lifespan.head(1)"
   ]
  },
  {
   "cell_type": "code",
   "execution_count": 242,
   "metadata": {
    "collapsed": true
   },
   "outputs": [],
   "source": [
    "table_finale = pd.merge(all_lifespan,\n",
    "                        all_gouv_clean[['gouvernement', 'wiki', 'fonctions', 'Parti']],\n",
    "                        on=['gouvernement', 'wiki'])\n",
    "# -- Reorder columns\n",
    "table_finale = table_finale.ix[: ,['gouvernement', 'wiki', 'Nom', 'fonctions',\n",
    "                                   'birthday', 'date_debut', 'date_fin',\n",
    "                                   'duree_mendat', 'Parti']]"
   ]
  },
  {
   "cell_type": "code",
   "execution_count": 244,
   "metadata": {
    "collapsed": false
   },
   "outputs": [
    {
     "data": {
      "text/html": [
       "<div>\n",
       "<table border=\"1\" class=\"dataframe\">\n",
       "  <thead>\n",
       "    <tr style=\"text-align: right;\">\n",
       "      <th></th>\n",
       "      <th>gouvernement</th>\n",
       "      <th>wiki</th>\n",
       "      <th>Nom</th>\n",
       "      <th>fonctions</th>\n",
       "      <th>birthday</th>\n",
       "      <th>date_debut</th>\n",
       "      <th>date_fin</th>\n",
       "      <th>duree_mendat</th>\n",
       "      <th>Parti</th>\n",
       "    </tr>\n",
       "  </thead>\n",
       "  <tbody>\n",
       "    <tr>\n",
       "      <th>0</th>\n",
       "      <td>holland_ayrault_2</td>\n",
       "      <td>/wiki/Jean-Marc_Ayrault</td>\n",
       "      <td>Jean-Marc Ayrault</td>\n",
       "      <td>Premier ministre</td>\n",
       "      <td>1950-01-25</td>\n",
       "      <td>2012-05-15</td>\n",
       "      <td>2014-03-31</td>\n",
       "      <td>685 days</td>\n",
       "      <td>PS</td>\n",
       "    </tr>\n",
       "    <tr>\n",
       "      <th>1</th>\n",
       "      <td>holland_ayrault_2</td>\n",
       "      <td>/wiki/Laurent_Fabius</td>\n",
       "      <td>Laurent Fabius</td>\n",
       "      <td>Ministre des Affaires étrangères</td>\n",
       "      <td>1946-08-20</td>\n",
       "      <td>2012-05-16</td>\n",
       "      <td>2016-02-11</td>\n",
       "      <td>1366 days</td>\n",
       "      <td>PS</td>\n",
       "    </tr>\n",
       "  </tbody>\n",
       "</table>\n",
       "</div>"
      ],
      "text/plain": [
       "        gouvernement                     wiki                Nom  \\\n",
       "0  holland_ayrault_2  /wiki/Jean-Marc_Ayrault  Jean-Marc Ayrault   \n",
       "1  holland_ayrault_2     /wiki/Laurent_Fabius     Laurent Fabius   \n",
       "\n",
       "                           fonctions   birthday date_debut   date_fin  \\\n",
       "0                  Premier ministre  1950-01-25 2012-05-15 2014-03-31   \n",
       "1  Ministre des Affaires étrangères  1946-08-20 2012-05-16 2016-02-11   \n",
       "\n",
       "   duree_mendat Parti  \n",
       "0      685 days    PS  \n",
       "1     1366 days    PS  "
      ]
     },
     "execution_count": 244,
     "metadata": {},
     "output_type": "execute_result"
    }
   ],
   "source": [
    "table_finale.head(2)"
   ]
  },
  {
   "cell_type": "markdown",
   "metadata": {},
   "source": [
    "## Export"
   ]
  },
  {
   "cell_type": "code",
   "execution_count": 245,
   "metadata": {
    "collapsed": true
   },
   "outputs": [],
   "source": [
    "table_finale.to_csv(path_file + 'table_finale.csv', sep=';', encoding='utf-8')"
   ]
  },
  {
   "cell_type": "markdown",
   "metadata": {},
   "source": [
    "# Sandbox"
   ]
  },
  {
   "cell_type": "markdown",
   "metadata": {},
   "source": [
    "## Test fonction"
   ]
  },
  {
   "cell_type": "code",
   "execution_count": 190,
   "metadata": {
    "collapsed": false
   },
   "outputs": [
    {
     "name": "stdout",
     "output_type": "stream",
     "text": [
      "35 ministres trouvés\n"
     ]
    }
   ],
   "source": [
    "df_date_holland_ayrault_1 = get_lifespan_ministres('holland_ayrault_1')"
   ]
  },
  {
   "cell_type": "code",
   "execution_count": 193,
   "metadata": {
    "collapsed": false
   },
   "outputs": [
    {
     "data": {
      "text/html": [
       "<div>\n",
       "<table border=\"1\" class=\"dataframe\">\n",
       "  <thead>\n",
       "    <tr style=\"text-align: right;\">\n",
       "      <th></th>\n",
       "      <th>wiki</th>\n",
       "      <th>Nom</th>\n",
       "      <th>birthday</th>\n",
       "      <th>date_debut</th>\n",
       "      <th>date_fin</th>\n",
       "      <th>duree_mendat</th>\n",
       "      <th>gouvernement</th>\n",
       "    </tr>\n",
       "  </thead>\n",
       "  <tbody>\n",
       "    <tr>\n",
       "      <th>0</th>\n",
       "      <td>/wiki/Jean-Marc_Ayrault</td>\n",
       "      <td>Jean-Marc Ayrault</td>\n",
       "      <td>1950-01-25</td>\n",
       "      <td>2012-05-15</td>\n",
       "      <td>2014-03-31</td>\n",
       "      <td>685 days</td>\n",
       "      <td>holland_ayrault_1</td>\n",
       "    </tr>\n",
       "    <tr>\n",
       "      <th>1</th>\n",
       "      <td>/wiki/Laurent_Fabius</td>\n",
       "      <td>Laurent Fabius</td>\n",
       "      <td>1946-08-20</td>\n",
       "      <td>2012-05-16</td>\n",
       "      <td>2016-02-11</td>\n",
       "      <td>1366 days</td>\n",
       "      <td>holland_ayrault_1</td>\n",
       "    </tr>\n",
       "    <tr>\n",
       "      <th>2</th>\n",
       "      <td>/wiki/Vincent_Peillon</td>\n",
       "      <td>Vincent Peillon</td>\n",
       "      <td>1960-07-07</td>\n",
       "      <td>2012-05-16</td>\n",
       "      <td>2014-03-31</td>\n",
       "      <td>684 days</td>\n",
       "      <td>holland_ayrault_1</td>\n",
       "    </tr>\n",
       "    <tr>\n",
       "      <th>3</th>\n",
       "      <td>/wiki/Christiane_Taubira</td>\n",
       "      <td>Christiane Taubira</td>\n",
       "      <td>1952-02-02</td>\n",
       "      <td>2012-05-16</td>\n",
       "      <td>2016-01-27</td>\n",
       "      <td>1351 days</td>\n",
       "      <td>holland_ayrault_1</td>\n",
       "    </tr>\n",
       "    <tr>\n",
       "      <th>4</th>\n",
       "      <td>/wiki/Pierre_Moscovici</td>\n",
       "      <td>Pierre Moscovici</td>\n",
       "      <td>1957-09-16</td>\n",
       "      <td>2012-05-16</td>\n",
       "      <td>2014-03-31</td>\n",
       "      <td>684 days</td>\n",
       "      <td>holland_ayrault_1</td>\n",
       "    </tr>\n",
       "  </tbody>\n",
       "</table>\n",
       "</div>"
      ],
      "text/plain": [
       "                       wiki                 Nom   birthday date_debut  \\\n",
       "0   /wiki/Jean-Marc_Ayrault   Jean-Marc Ayrault 1950-01-25 2012-05-15   \n",
       "1      /wiki/Laurent_Fabius      Laurent Fabius 1946-08-20 2012-05-16   \n",
       "2     /wiki/Vincent_Peillon     Vincent Peillon 1960-07-07 2012-05-16   \n",
       "3  /wiki/Christiane_Taubira  Christiane Taubira 1952-02-02 2012-05-16   \n",
       "4    /wiki/Pierre_Moscovici    Pierre Moscovici 1957-09-16 2012-05-16   \n",
       "\n",
       "    date_fin  duree_mendat       gouvernement  \n",
       "0 2014-03-31      685 days  holland_ayrault_1  \n",
       "1 2016-02-11     1366 days  holland_ayrault_1  \n",
       "2 2014-03-31      684 days  holland_ayrault_1  \n",
       "3 2016-01-27     1351 days  holland_ayrault_1  \n",
       "4 2014-03-31      684 days  holland_ayrault_1  "
      ]
     },
     "execution_count": 193,
     "metadata": {},
     "output_type": "execute_result"
    }
   ],
   "source": [
    "df_date_holland_ayrault_1.head(5)"
   ]
  },
  {
   "cell_type": "markdown",
   "metadata": {},
   "source": [
    "## Test scrap"
   ]
  },
  {
   "cell_type": "code",
   "execution_count": 179,
   "metadata": {
    "collapsed": false
   },
   "outputs": [],
   "source": [
    "for ministre in wiki_ministres_clean[:1]:\n",
    "    page_ministre = \"https://fr.wikipedia.org\" + ministre\n",
    "    header = {'User-Agent': 'Mozilla/5.0'} #Needed to prevent 403 error on Wikipedia\n",
    "    page = request.Request(page_ministre, headers=header)\n",
    "    html = request.urlopen(page)\n",
    "    soup = BeautifulSoup(html, \"lxml\")\n",
    "    cells = soup.find('table', {'class': 'infobox_v2'})  # selection du tableau de droite\n",
    "    cells_gouv = cells.find('a', href=re.compile(dict_holland_char['holland_ayrault_1']))  # selection du gouvernement\n",
    "    l_dates = []\n"
   ]
  },
  {
   "cell_type": "code",
   "execution_count": 145,
   "metadata": {
    "collapsed": false
   },
   "outputs": [
    {
     "data": {
      "text/plain": [
       "'1950-01-25'"
      ]
     },
     "execution_count": 145,
     "metadata": {},
     "output_type": "execute_result"
    }
   ],
   "source": [
    "# -- date_naissance\n",
    "cells.find('time', {'class': 'nowrap date-lien bday'})['datetime']"
   ]
  },
  {
   "cell_type": "code",
   "execution_count": 183,
   "metadata": {
    "collapsed": false
   },
   "outputs": [
    {
     "data": {
      "text/plain": [
       "'Jean-Marc Ayrault'"
      ]
     },
     "execution_count": 183,
     "metadata": {},
     "output_type": "execute_result"
    }
   ],
   "source": [
    "# -- Nom\n",
    "cells.find('td', {'class': 'entete defaut'}).getText()"
   ]
  },
  {
   "cell_type": "code",
   "execution_count": null,
   "metadata": {
    "collapsed": true
   },
   "outputs": [],
   "source": []
  },
  {
   "cell_type": "code",
   "execution_count": null,
   "metadata": {
    "collapsed": true
   },
   "outputs": [],
   "source": []
  }
 ],
 "metadata": {
  "kernelspec": {
   "display_name": "Python 3",
   "language": "python",
   "name": "python3"
  },
  "language_info": {
   "codemirror_mode": {
    "name": "ipython",
    "version": 3
   },
   "file_extension": ".py",
   "mimetype": "text/x-python",
   "name": "python",
   "nbconvert_exporter": "python",
   "pygments_lexer": "ipython3",
   "version": "3.4.3"
  }
 },
 "nbformat": 4,
 "nbformat_minor": 0
}
