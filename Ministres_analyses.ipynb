{
 "cells": [
  {
   "cell_type": "code",
   "execution_count": 3,
   "metadata": {
    "collapsed": true
   },
   "outputs": [],
   "source": [
    "import numpy as np\n",
    "import pandas as pd\n",
    "path_file = '/media/flo/Stockage/Data/ScrapMyMinistres/'"
   ]
  },
  {
   "cell_type": "code",
   "execution_count": 4,
   "metadata": {
    "collapsed": false
   },
   "outputs": [],
   "source": [
    "table_finale = pd.read_csv(path_file + 'table_finale.csv', sep=';', encoding='utf-8')"
   ]
  },
  {
   "cell_type": "code",
   "execution_count": 6,
   "metadata": {
    "collapsed": false
   },
   "outputs": [],
   "source": [
    "del table_finale['Unnamed: 0']"
   ]
  },
  {
   "cell_type": "code",
   "execution_count": 7,
   "metadata": {
    "collapsed": false
   },
   "outputs": [
    {
     "data": {
      "text/html": [
       "<div>\n",
       "<table border=\"1\" class=\"dataframe\">\n",
       "  <thead>\n",
       "    <tr style=\"text-align: right;\">\n",
       "      <th></th>\n",
       "      <th>gouvernement</th>\n",
       "      <th>wiki</th>\n",
       "      <th>Nom</th>\n",
       "      <th>fonctions</th>\n",
       "      <th>birthday</th>\n",
       "      <th>date_debut</th>\n",
       "      <th>date_fin</th>\n",
       "      <th>duree_mendat</th>\n",
       "      <th>Parti</th>\n",
       "    </tr>\n",
       "  </thead>\n",
       "  <tbody>\n",
       "    <tr>\n",
       "      <th>0</th>\n",
       "      <td>holland_ayrault_2</td>\n",
       "      <td>/wiki/Jean-Marc_Ayrault</td>\n",
       "      <td>Jean-Marc Ayrault</td>\n",
       "      <td>Premier ministre</td>\n",
       "      <td>1950-01-25</td>\n",
       "      <td>2012-05-15</td>\n",
       "      <td>2014-03-31</td>\n",
       "      <td>685 days 00:00:00.000000000</td>\n",
       "      <td>PS</td>\n",
       "    </tr>\n",
       "    <tr>\n",
       "      <th>1</th>\n",
       "      <td>holland_ayrault_2</td>\n",
       "      <td>/wiki/Laurent_Fabius</td>\n",
       "      <td>Laurent Fabius</td>\n",
       "      <td>Ministre des Affaires étrangères</td>\n",
       "      <td>1946-08-20</td>\n",
       "      <td>2012-05-16</td>\n",
       "      <td>2016-02-11</td>\n",
       "      <td>1366 days 00:00:00.000000000</td>\n",
       "      <td>PS</td>\n",
       "    </tr>\n",
       "    <tr>\n",
       "      <th>2</th>\n",
       "      <td>holland_ayrault_2</td>\n",
       "      <td>/wiki/Vincent_Peillon</td>\n",
       "      <td>Vincent Peillon</td>\n",
       "      <td>Ministre de l'Éducation nationale</td>\n",
       "      <td>1960-07-07</td>\n",
       "      <td>2012-05-16</td>\n",
       "      <td>2014-03-31</td>\n",
       "      <td>684 days 00:00:00.000000000</td>\n",
       "      <td>PS</td>\n",
       "    </tr>\n",
       "    <tr>\n",
       "      <th>3</th>\n",
       "      <td>holland_ayrault_2</td>\n",
       "      <td>/wiki/Christiane_Taubira</td>\n",
       "      <td>Christiane Taubira</td>\n",
       "      <td>Garde des Sceaux</td>\n",
       "      <td>1952-02-02</td>\n",
       "      <td>2012-05-16</td>\n",
       "      <td>2016-01-27</td>\n",
       "      <td>1351 days 00:00:00.000000000</td>\n",
       "      <td>PRG</td>\n",
       "    </tr>\n",
       "    <tr>\n",
       "      <th>4</th>\n",
       "      <td>holland_ayrault_2</td>\n",
       "      <td>/wiki/Pierre_Moscovici</td>\n",
       "      <td>Pierre Moscovici</td>\n",
       "      <td>Ministre de l'Économie et des Finances</td>\n",
       "      <td>1957-09-16</td>\n",
       "      <td>2012-05-16</td>\n",
       "      <td>2014-03-31</td>\n",
       "      <td>684 days 00:00:00.000000000</td>\n",
       "      <td>PS</td>\n",
       "    </tr>\n",
       "  </tbody>\n",
       "</table>\n",
       "</div>"
      ],
      "text/plain": [
       "        gouvernement                      wiki                 Nom  \\\n",
       "0  holland_ayrault_2   /wiki/Jean-Marc_Ayrault   Jean-Marc Ayrault   \n",
       "1  holland_ayrault_2      /wiki/Laurent_Fabius      Laurent Fabius   \n",
       "2  holland_ayrault_2     /wiki/Vincent_Peillon     Vincent Peillon   \n",
       "3  holland_ayrault_2  /wiki/Christiane_Taubira  Christiane Taubira   \n",
       "4  holland_ayrault_2    /wiki/Pierre_Moscovici    Pierre Moscovici   \n",
       "\n",
       "                                 fonctions    birthday  date_debut  \\\n",
       "0                        Premier ministre   1950-01-25  2012-05-15   \n",
       "1        Ministre des Affaires étrangères   1946-08-20  2012-05-16   \n",
       "2       Ministre de l'Éducation nationale   1960-07-07  2012-05-16   \n",
       "3                        Garde des Sceaux   1952-02-02  2012-05-16   \n",
       "4  Ministre de l'Économie et des Finances   1957-09-16  2012-05-16   \n",
       "\n",
       "     date_fin                  duree_mendat  Parti  \n",
       "0  2014-03-31   685 days 00:00:00.000000000     PS  \n",
       "1  2016-02-11  1366 days 00:00:00.000000000     PS  \n",
       "2  2014-03-31   684 days 00:00:00.000000000     PS  \n",
       "3  2016-01-27  1351 days 00:00:00.000000000   PRG   \n",
       "4  2014-03-31   684 days 00:00:00.000000000     PS  "
      ]
     },
     "execution_count": 7,
     "metadata": {},
     "output_type": "execute_result"
    }
   ],
   "source": [
    "table_finale.head()"
   ]
  },
  {
   "cell_type": "code",
   "execution_count": 72,
   "metadata": {
    "collapsed": false
   },
   "outputs": [
    {
     "ename": "AttributeError",
     "evalue": "'float' object has no attribute 'split'",
     "output_type": "error",
     "traceback": [
      "\u001b[1;31m---------------------------------------------------------------------------\u001b[0m",
      "\u001b[1;31mAttributeError\u001b[0m                            Traceback (most recent call last)",
      "\u001b[1;32m<ipython-input-72-98ce748eea52>\u001b[0m in \u001b[0;36m<module>\u001b[1;34m()\u001b[0m\n\u001b[1;32m----> 1\u001b[1;33m \u001b[1;33m[\u001b[0m\u001b[0mx\u001b[0m\u001b[1;33m.\u001b[0m\u001b[0msplit\u001b[0m\u001b[1;33m(\u001b[0m\u001b[1;34m'days'\u001b[0m\u001b[1;33m)\u001b[0m \u001b[1;32mif\u001b[0m \u001b[1;33m(\u001b[0m\u001b[0mx\u001b[0m \u001b[1;32mis\u001b[0m \u001b[1;32mnot\u001b[0m \u001b[1;32mNone\u001b[0m\u001b[1;33m)\u001b[0m \u001b[1;32melse\u001b[0m \u001b[1;34m\"NaN\"\u001b[0m \u001b[1;32mfor\u001b[0m \u001b[0mx\u001b[0m \u001b[1;32min\u001b[0m \u001b[0mtable_finale\u001b[0m\u001b[1;33m.\u001b[0m\u001b[0mduree_mendat\u001b[0m\u001b[1;33m.\u001b[0m\u001b[0mtolist\u001b[0m\u001b[1;33m(\u001b[0m\u001b[1;33m)\u001b[0m\u001b[1;33m]\u001b[0m\u001b[1;33m\u001b[0m\u001b[0m\n\u001b[0m",
      "\u001b[1;32m<ipython-input-72-98ce748eea52>\u001b[0m in \u001b[0;36m<listcomp>\u001b[1;34m(.0)\u001b[0m\n\u001b[1;32m----> 1\u001b[1;33m \u001b[1;33m[\u001b[0m\u001b[0mx\u001b[0m\u001b[1;33m.\u001b[0m\u001b[0msplit\u001b[0m\u001b[1;33m(\u001b[0m\u001b[1;34m'days'\u001b[0m\u001b[1;33m)\u001b[0m \u001b[1;32mif\u001b[0m \u001b[1;33m(\u001b[0m\u001b[0mx\u001b[0m \u001b[1;32mis\u001b[0m \u001b[1;32mnot\u001b[0m \u001b[1;32mNone\u001b[0m\u001b[1;33m)\u001b[0m \u001b[1;32melse\u001b[0m \u001b[1;34m\"NaN\"\u001b[0m \u001b[1;32mfor\u001b[0m \u001b[0mx\u001b[0m \u001b[1;32min\u001b[0m \u001b[0mtable_finale\u001b[0m\u001b[1;33m.\u001b[0m\u001b[0mduree_mendat\u001b[0m\u001b[1;33m.\u001b[0m\u001b[0mtolist\u001b[0m\u001b[1;33m(\u001b[0m\u001b[1;33m)\u001b[0m\u001b[1;33m]\u001b[0m\u001b[1;33m\u001b[0m\u001b[0m\n\u001b[0m",
      "\u001b[1;31mAttributeError\u001b[0m: 'float' object has no attribute 'split'"
     ]
    }
   ],
   "source": [
    "[x.split('days') if (x is not None) else \"NaN\" for x in table_finale.duree_mendat.tolist()]"
   ]
  },
  {
   "cell_type": "code",
   "execution_count": 66,
   "metadata": {
    "collapsed": false
   },
   "outputs": [
    {
     "data": {
      "text/plain": [
       "70     684 days 00:00:00.000000000\n",
       "71     650 days 00:00:00.000000000\n",
       "72     684 days 00:00:00.000000000\n",
       "73     707 days 00:00:00.000000000\n",
       "74    1366 days 00:00:00.000000000\n",
       "75     705 days 00:00:00.000000000\n",
       "76     145 days 00:00:00.000000000\n",
       "77    1351 days 00:00:00.000000000\n",
       "78     705 days 00:00:00.000000000\n",
       "79                             NaN\n",
       "Name: duree_mendat, dtype: object"
      ]
     },
     "execution_count": 66,
     "metadata": {},
     "output_type": "execute_result"
    }
   ],
   "source": [
    "table_finale.duree_mendat[70:80]"
   ]
  },
  {
   "cell_type": "code",
   "execution_count": 37,
   "metadata": {
    "collapsed": false
   },
   "outputs": [
    {
     "data": {
      "text/plain": [
       "0       [685 ,  00:00:00.000000000]\n",
       "1      [1366 ,  00:00:00.000000000]\n",
       "2       [684 ,  00:00:00.000000000]\n",
       "3      [1351 ,  00:00:00.000000000]\n",
       "4       [684 ,  00:00:00.000000000]\n",
       "5      [1391 ,  00:00:00.000000000]\n",
       "6       [684 ,  00:00:00.000000000]\n",
       "7       [684 ,  00:00:00.000000000]\n",
       "8       [648 ,  00:00:00.000000000]\n",
       "9       [684 ,  00:00:00.000000000]\n",
       "10      [272 ,  00:00:00.000000000]\n",
       "11      [684 ,  00:00:00.000000000]\n",
       "12     [1391 ,  00:00:00.000000000]\n",
       "13      [831 ,  00:00:00.000000000]\n",
       "14      [684 ,  00:00:00.000000000]\n",
       "15      [684 ,  00:00:00.000000000]\n",
       "16     [1391 ,  00:00:00.000000000]\n",
       "17     [1366 ,  00:00:00.000000000]\n",
       "18      [684 ,  00:00:00.000000000]\n",
       "19      [684 ,  00:00:00.000000000]\n",
       "20      [684 ,  00:00:00.000000000]\n",
       "21      [377 ,  00:00:00.000000000]\n",
       "22      [377 ,  00:00:00.000000000]\n",
       "23      [684 ,  00:00:00.000000000]\n",
       "24      [684 ,  00:00:00.000000000]\n",
       "25      [684 ,  00:00:00.000000000]\n",
       "26      [684 ,  00:00:00.000000000]\n",
       "27      [684 ,  00:00:00.000000000]\n",
       "28      [684 ,  00:00:00.000000000]\n",
       "29      [684 ,  00:00:00.000000000]\n",
       "                   ...             \n",
       "114      [25 ,  00:00:00.000000000]\n",
       "115     [705 ,  00:00:00.000000000]\n",
       "116    [1391 ,  00:00:00.000000000]\n",
       "117      [25 ,  00:00:00.000000000]\n",
       "118     [559 ,  00:00:00.000000000]\n",
       "119      [25 ,  00:00:00.000000000]\n",
       "120      [25 ,  00:00:00.000000000]\n",
       "121      [25 ,  00:00:00.000000000]\n",
       "122     [559 ,  00:00:00.000000000]\n",
       "123     [705 ,  00:00:00.000000000]\n",
       "124     [698 ,  00:00:00.000000000]\n",
       "125      [25 ,  00:00:00.000000000]\n",
       "126      [25 ,  00:00:00.000000000]\n",
       "127                             NaN\n",
       "128     [698 ,  00:00:00.000000000]\n",
       "129     [550 ,  00:00:00.000000000]\n",
       "130      [25 ,  00:00:00.000000000]\n",
       "131     [559 ,  00:00:00.000000000]\n",
       "132      [25 ,  00:00:00.000000000]\n",
       "133     [264 ,  00:00:00.000000000]\n",
       "134     [698 ,  00:00:00.000000000]\n",
       "135     [698 ,  00:00:00.000000000]\n",
       "136      [25 ,  00:00:00.000000000]\n",
       "137     [472 ,  00:00:00.000000000]\n",
       "138      [25 ,  00:00:00.000000000]\n",
       "139      [25 ,  00:00:00.000000000]\n",
       "140     [264 ,  00:00:00.000000000]\n",
       "141     [698 ,  00:00:00.000000000]\n",
       "142      [25 ,  00:00:00.000000000]\n",
       "143     [698 ,  00:00:00.000000000]\n",
       "dtype: object"
      ]
     },
     "execution_count": 37,
     "metadata": {},
     "output_type": "execute_result"
    }
   ],
   "source": [
    "table_finale.duree_mendat.str.split('days')"
   ]
  },
  {
   "cell_type": "code",
   "execution_count": null,
   "metadata": {
    "collapsed": true
   },
   "outputs": [],
   "source": []
  },
  {
   "cell_type": "code",
   "execution_count": null,
   "metadata": {
    "collapsed": true
   },
   "outputs": [],
   "source": []
  }
 ],
 "metadata": {
  "kernelspec": {
   "display_name": "Python 3",
   "language": "python",
   "name": "python3"
  },
  "language_info": {
   "codemirror_mode": {
    "name": "ipython",
    "version": 3
   },
   "file_extension": ".py",
   "mimetype": "text/x-python",
   "name": "python",
   "nbconvert_exporter": "python",
   "pygments_lexer": "ipython3",
   "version": "3.4.3"
  }
 },
 "nbformat": 4,
 "nbformat_minor": 0
}
